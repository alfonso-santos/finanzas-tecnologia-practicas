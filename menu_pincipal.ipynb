{
 "cells": [
  {
   "cell_type": "markdown",
   "metadata": {},
   "source": [
    "# Introduction to Asset Description and Portfolio Management\n",
    "\n",
    "<center>\n",
    "    <div style=\"display: flex; justify-content: center; align-items: center;\">\n",
    "        <img src=\"./imgs/UAM-Logo.png\" alt=\"UAM Logo\" width=\"500\"/>\n",
    "        <img src=\"./imgs/python-logo.png\" alt=\"Python Logo\" width=\"400\"/>\n",
    "    </div>\n",
    "</center>\n"
   ]
  },
  {
   "cell_type": "markdown",
   "metadata": {},
   "source": [
    "## Introduction\n",
    "Technology has revolutionized finance by introducing automation and large-scale data analysis. Python has become an essential tool for these tasks due to its simplicity and power.\n",
    "\n",
    "## Why This Sessions?\n",
    "This sessions address the growing demand for professionals proficient in Python for tasks such as quantitative analysis and financial automation. Learning Python will enable students to adapt to the requirements of today's financial sector.\n"
   ]
  },
  {
   "cell_type": "markdown",
   "metadata": {},
   "source": [
    "<center>\n",
    "          <img src=\"./imgs/porque_curso.PNG\" alt=\"Por qué curso\" width=\"800\"/>\n",
    "</center>"
   ]
  },
  {
   "cell_type": "markdown",
   "metadata": {},
   "source": [
    "## How Do We Do It?\n",
    "We teach economics and finance students to integrate Python into their work, using practical examples to enhance analysis, automate processes, and make more informed decisions.\n"
   ]
  },
  {
   "cell_type": "markdown",
   "metadata": {},
   "source": [
    "<center>\n",
    "          <img src=\"./imgs/te_ofrecemos.PNG\" alt=\"Por qué curso\" width=\"800\"/>\n",
    "</center>"
   ]
  },
  {
   "cell_type": "markdown",
   "metadata": {},
   "source": [
    "## What Do We Teach?\n",
    "We start from the basics of Python and quickly move on to financial problems like asset analysis and portfolio generation, demonstrating how to solve them effectively using Python.\n"
   ]
  },
  {
   "cell_type": "markdown",
   "metadata": {},
   "source": [
    "<center>\n",
    "          <img src=\"./imgs/intro_python.PNG\" alt=\"Por qué curso\" width=\"800\"/>\n",
    "</center>"
   ]
  },
  {
   "cell_type": "markdown",
   "metadata": {},
   "source": [
    "<div style=\"background-color: #e0f7df; padding: 10px;\">\n",
    "\n",
    "**PROFESSOR:**\n",
    "\n",
    "- [Alfonso Santos](https://www.uam.es/Economicas/santos-ramon-alfonso/1242667903456.htm?language=es&pid=1242653687745&title=Santos%20Ram?n%20Alfonso). Profesor Asociado Dpto Financiación e Investigación Comercial. Facultad Económicas y Empresariales. Universidad Autónoma de Madrid. Master de IA aplicado a los Mercados Financieros del Instituto  BME\n",
    "\n",
    "</div>"
   ]
  },
  {
   "cell_type": "markdown",
   "metadata": {},
   "source": [
    "# CONTENT"
   ]
  },
  {
   "cell_type": "markdown",
   "metadata": {},
   "source": [
    "## Module 1: Asset Descriptions\n",
    "\n",
    "* [1.1](./src/01_01_Descarga_y_descripción_de_activos_financieros.ipynb) Download of Prices and Description of Financial Assets\n",
    "\n",
    "* [1.2](./src/01_02_Rentabilidades_volatilidades.ipynb) Analysis of Returns and Volatilities of a Financial Asset\n",
    "\n",
    "## Module 2: Initial Portfolio Management\n",
    "\n",
    "* [1.3](./src/02_01_Calculos_iniciales_de_carteras.ipynb) Initial Portfolio Calculations\n",
    "\n",
    "\n"
   ]
  },
  {
   "cell_type": "code",
   "execution_count": null,
   "metadata": {},
   "outputs": [],
   "source": []
  }
 ],
 "metadata": {
  "kernelspec": {
   "display_name": "Python 3 (ipykernel)",
   "language": "python",
   "name": "python3"
  },
  "language_info": {
   "codemirror_mode": {
    "name": "ipython",
    "version": 3
   },
   "file_extension": ".py",
   "mimetype": "text/x-python",
   "name": "python",
   "nbconvert_exporter": "python",
   "pygments_lexer": "ipython3",
   "version": "3.11.6"
  },
  "vscode": {
   "interpreter": {
    "hash": "18a6b418ca989a304418b74e14b57df096d22507d5bd0d85ac6f17ef362aab2d"
   }
  }
 },
 "nbformat": 4,
 "nbformat_minor": 2
}
