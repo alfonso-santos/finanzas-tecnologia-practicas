{
 "cells": [
  {
   "cell_type": "markdown",
   "metadata": {},
   "source": [
    "# Explicación de los retornos de un activo en función de otros datos"
   ]
  },
  {
   "cell_type": "markdown",
   "metadata": {},
   "source": [
    "En este caso vamos a aprender cómo podemos estudiar algunos activos financieros en función del comportamiento de otros activos financieros u otros indicadores que se comportan como tales (factores), aunque no sean activos financieros reales."
   ]
  },
  {
   "cell_type": "code",
   "execution_count": 88,
   "metadata": {},
   "outputs": [],
   "source": [
    "import numpy as np\n",
    "import pandas as pd\n",
    "import yfinance as yf\n",
    "import matplotlib.pyplot as plt\n"
   ]
  },
  {
   "cell_type": "markdown",
   "metadata": {},
   "source": [
    "## Regresión lineal\n",
    "\n",
    "Consiste en encontrar la recta $y=ax+b$ que mejor se adapta a nuestros datos, es decir, que minimiza el error cuadrático medio, que se define como:\n",
    "\n",
    "$$MSE=\\frac{\\sum_{i=1}^{N}(y_i-\\hat y_i)^2}{N}$$"
   ]
  },
  {
   "cell_type": "markdown",
   "metadata": {},
   "source": [
    "A modo de ejemplo, creamos unos datos sintéticos mediante una recta conocida $y=2x+1$."
   ]
  },
  {
   "cell_type": "code",
   "execution_count": 89,
   "metadata": {},
   "outputs": [
    {
     "data": {
      "image/png": "[encoded data removed]",
      "text/plain": [
       "<Figure size 640x480 with 1 Axes>"
      ]
     },
     "metadata": {},
     "output_type": "display_data"
    }
   ],
   "source": [
    "# Creamos datos de ejemplo siguiendo la recta y=2x+1 y añadiendo un poco de ruido aleatorio con distribución normal.\n",
    "\n",
    "# Generador de números aleatorios.\n",
    "rng = np.random.default_rng(42)\n",
    "\n",
    "# x = array de 100 elementos uniformemente distribuidos entre -1 y 1.\n",
    "x = np.linspace(-1, 1, 100)\n",
    "\n",
    "# e = array de 100 elementos con ruido aleatorio con distribución normal.\n",
    "e = rng.normal(loc=0, scale=0.2, size=100)\n",
    "\n",
    "# y = 2 * (array de 100) + 1 + (array de 100).\n",
    "y = 2 * x + 1 + e\n",
    "\n",
    "# Graficamos los datos (x, y) junto con la recta de la que parten.\n",
    "plt.plot(x, y, \".\", label=\"Datos\")\n",
    "plt.plot(x, 2 * x + 1, label=\"y=2x+1\")\n",
    "plt.xlabel(\"x\")\n",
    "plt.ylabel(\"y\")\n",
    "plt.legend()\n",
    "plt.show()"
   ]
  },
  {
   "cell_type": "markdown",
   "metadata": {},
   "source": [
    "Ahora que ya tenemos nuestros datos $y$ vamos a ejecutar una regresión lineal con el objetivo de encontrar la recta $y=ax+b$ que mejor los explica. Para ello podemos hacer uso de la librería ``statsmodel`` de Python.\n",
    "\n",
    "Ref.:\n",
    "* StatsModels: https://www.statsmodels.org/stable/index.html"
   ]
  },
  {
   "cell_type": "code",
   "execution_count": 90,
   "metadata": {},
   "outputs": [
    {
     "name": "stdout",
     "output_type": "stream",
     "text": [
      "                            OLS Regression Results                            \n",
      "==============================================================================\n",
      "Dep. Variable:                      y   R-squared:                       0.982\n",
      "Model:                            OLS   Adj. R-squared:                  0.982\n",
      "Method:                 Least Squares   F-statistic:                     5486.\n",
      "Date:                Thu, 15 Aug 2024   Prob (F-statistic):           7.54e-88\n",
      "Time:                        13:26:07   Log-Likelihood:                 46.094\n",
      "No. Observations:                 100   AIC:                            -88.19\n",
      "Df Residuals:                      98   BIC:                            -82.98\n",
      "Df Model:                           1                                         \n",
      "Covariance Type:            nonrobust                                         \n",
      "==============================================================================\n",
      "                 coef    std err          t      P>|t|      [0.025      0.975]\n",
      "------------------------------------------------------------------------------\n",
      "const          0.9899      0.015     64.216      0.000       0.959       1.021\n",
      "x1             1.9580      0.026     74.070      0.000       1.906       2.011\n",
      "==============================================================================\n",
      "Omnibus:                        0.718   Durbin-Watson:                   1.884\n",
      "Prob(Omnibus):                  0.698   Jarque-Bera (JB):                0.809\n",
      "Skew:                          -0.189   Prob(JB):                        0.667\n",
      "Kurtosis:                       2.774   Cond. No.                         1.71\n",
      "==============================================================================\n",
      "\n",
      "Notes:\n",
      "[1] Standard Errors assume that the covariance matrix of the errors is correctly specified.\n"
     ]
    }
   ],
   "source": [
    "import statsmodels.api as sm\n",
    "\n",
    "# Variable independiente.\n",
    "X = sm.add_constant(x)\n",
    "# Modelo de regresión lineal.\n",
    "# y -> variable dependiente.\n",
    "model = sm.OLS(y, X)\n",
    "# Ajustamos el modelo de regresión lineal.\n",
    "resultado = model.fit()\n",
    "# Mostramos los resultados.\n",
    "print(resultado.summary())"
   ]
  },
  {
   "cell_type": "markdown",
   "metadata": {},
   "source": [
    "Análisis de resultados.\n",
    "\n",
    "<img src=\"../imgs/Tema 2 - Caso 5 - OLS.png\">\n",
    "\n",
    "* $R^2=0.982$ lo que significa que el modelo explica el 98.2% de la variabilidad de los datos. Esto significa que el modelo se ajusta bien a los datos.\n",
    "* $const=0.9899$: la constante utilizada para generar los datos fue $b=1$ y la estimación es $0.9899$.\n",
    "    * Es estadísticamente relevante porque $P>|t|<0.05$ (se usa normalmente el valor 0.05, aunque puedes ser más exigente).\n",
    "    * En el rango de valores no se encuentra el 0.\n",
    "    * Podemos descartar la hipótesis nula.\n",
    "* $x1=1.9580$: la pendiente utilizada para generar los datos fue $a=2$ y la estimación es $1.9580$.\n",
    "    * Es estadísticamente relevante porque $P>|t|<0.05$.\n",
    "    * En el rango de valores no se encuentra el 0.\n",
    "    * Podemos descartar la hipótesis nula.\n",
    "\n",
    "Las diferencias en la estimación de la constante (intercepto) y la pendiente (coeficiente) se deben al error aleatorio introducido al generar los datos sintéticos."
   ]
  },
  {
   "cell_type": "code",
   "execution_count": 91,
   "metadata": {},
   "outputs": [
    {
     "name": "stdout",
     "output_type": "stream",
     "text": [
      "alpha = 0.9899460777032287\n",
      "beta = 1.9580471632962757\n",
      "R2 = 0.9824508687604641\n"
     ]
    }
   ],
   "source": [
    "alpha = resultado.params[0]\n",
    "beta = resultado.params[1]\n",
    "r2 = resultado.rsquared\n",
    "\n",
    "print(f\"alpha = {alpha}\")\n",
    "print(f\"beta = {beta}\")\n",
    "print(F\"R2 = {r2}\")"
   ]
  },
  {
   "cell_type": "code",
   "execution_count": 92,
   "metadata": {},
   "outputs": [
    {
     "data": {
      "image/png": "[encoded data removed]",
      "text/plain": [
       "<Figure size 640x480 with 1 Axes>"
      ]
     },
     "metadata": {},
     "output_type": "display_data"
    }
   ],
   "source": [
    "# Graficamos los datos junto con las rectas.\n",
    "plt.plot(x, y, \".\", label=\"Datos\")\n",
    "plt.plot(x, beta * x + alpha, label=\"Modelo\")\n",
    "plt.plot(x, 2 * x + 1, label=\"Original\", linestyle=\"--\", alpha=0.5)\n",
    "plt.xlabel(\"x\")\n",
    "plt.ylabel(\"y\")\n",
    "plt.legend()\n",
    "plt.show()"
   ]
  },
  {
   "cell_type": "markdown",
   "metadata": {},
   "source": [
    "La recta generadora no es exactamente igual a la recta obtenida mediante la regresión lineal ¿significa eso que se ha estimado mal? ¿la recta calculada mediante regresión se ajusta mejor a los datos que la recta generadora? Vamos a calcular el Error Cuadrático Medio (MSE) de ambas rectas:\n",
    "\n",
    "$$MSE=\\frac{\\sum_{i=1}^{N}(y_i-\\hat y_i)^2}{N}$$"
   ]
  },
  {
   "cell_type": "code",
   "execution_count": 93,
   "metadata": {},
   "outputs": [
    {
     "name": "stdout",
     "output_type": "stream",
     "text": [
      "MSE generadora = 0.023988890416851313\n",
      "MSE regresión = 0.023289276769509114\n",
      "Diferencia = 0.0006996136473421989\n"
     ]
    }
   ],
   "source": [
    "y_datos = y\n",
    "y_generadora = 2 * x + 1\n",
    "y_regresion = beta * x + alpha\n",
    "\n",
    "mse_generadora = np.mean((y_datos - y_generadora) ** 2)\n",
    "mse_regresion = np.mean((y_datos - y_regresion) ** 2)\n",
    "\n",
    "print(f\"MSE generadora = {mse_generadora}\")\n",
    "print(f\"MSE regresión = {mse_regresion}\")\n",
    "print(f\"Diferencia = {mse_generadora - mse_regresion}\")"
   ]
  },
  {
   "cell_type": "markdown",
   "metadata": {},
   "source": [
    "En resumen ¿qué hemos hecho?\n",
    "\n",
    "Teníamos unos datos $(x,y)$ distribuidos de cierta manera en un espacio bidimensional, y hemos encontrado otros datos $(x, \\hat{y})$ definidos por la recta $f(x)=\\hat{y}=\\beta x + \\alpha$ que explican un 98.2% de la variabilidad de los datos originales.\n",
    "\n",
    "Supongamos ahora que tenemos los datos $(x,y)$ y los datos $(x, \\hat{y})$, pero no conocemos $f(x)$, es decir, no conocemos la función que genera $\\hat{y}$ ¿Podemos saber qué tan bien explican $(x, \\hat{y})$ (variable independiente $X$) a $(x,y)$ (variable dependiente $y$)?\n",
    "\n",
    "* $X=(x, \\hat{y})$\n",
    "* $y=(x,y)$\n",
    "\n",
    "En otras palabras, cuando yo observo $X$ ¿es buena predictora de $y$?"
   ]
  },
  {
   "cell_type": "code",
   "execution_count": 94,
   "metadata": {},
   "outputs": [
    {
     "data": {
      "text/html": [
       "<div>\n",
       "<style scoped>\n",
       "    .dataframe tbody tr th:only-of-type {\n",
       "        vertical-align: middle;\n",
       "    }\n",
       "\n",
       "    .dataframe tbody tr th {\n",
       "        vertical-align: top;\n",
       "    }\n",
       "\n",
       "    .dataframe thead th {\n",
       "        text-align: right;\n",
       "    }\n",
       "</style>\n",
       "<table border=\"1\" class=\"dataframe\">\n",
       "  <thead>\n",
       "    <tr style=\"text-align: right;\">\n",
       "      <th></th>\n",
       "      <th>y</th>\n",
       "      <th>X</th>\n",
       "    </tr>\n",
       "    <tr>\n",
       "      <th>x</th>\n",
       "      <th></th>\n",
       "      <th></th>\n",
       "    </tr>\n",
       "  </thead>\n",
       "  <tbody>\n",
       "    <tr>\n",
       "      <th>-1.000000</th>\n",
       "      <td>-0.939057</td>\n",
       "      <td>-0.968101</td>\n",
       "    </tr>\n",
       "    <tr>\n",
       "      <th>-0.979798</th>\n",
       "      <td>-1.167593</td>\n",
       "      <td>-0.928545</td>\n",
       "    </tr>\n",
       "    <tr>\n",
       "      <th>-0.959596</th>\n",
       "      <td>-0.769102</td>\n",
       "      <td>-0.888988</td>\n",
       "    </tr>\n",
       "    <tr>\n",
       "      <th>-0.939394</th>\n",
       "      <td>-0.690675</td>\n",
       "      <td>-0.849432</td>\n",
       "    </tr>\n",
       "    <tr>\n",
       "      <th>-0.919192</th>\n",
       "      <td>-1.228591</td>\n",
       "      <td>-0.809875</td>\n",
       "    </tr>\n",
       "    <tr>\n",
       "      <th>...</th>\n",
       "      <td>...</td>\n",
       "      <td>...</td>\n",
       "    </tr>\n",
       "    <tr>\n",
       "      <th>0.919192</th>\n",
       "      <td>2.548961</td>\n",
       "      <td>2.789767</td>\n",
       "    </tr>\n",
       "    <tr>\n",
       "      <th>0.939394</th>\n",
       "      <td>2.614248</td>\n",
       "      <td>2.829324</td>\n",
       "    </tr>\n",
       "    <tr>\n",
       "      <th>0.959596</th>\n",
       "      <td>2.719743</td>\n",
       "      <td>2.868880</td>\n",
       "    </tr>\n",
       "    <tr>\n",
       "      <th>0.979798</th>\n",
       "      <td>3.039551</td>\n",
       "      <td>2.908437</td>\n",
       "    </tr>\n",
       "    <tr>\n",
       "      <th>1.000000</th>\n",
       "      <td>2.818904</td>\n",
       "      <td>2.947993</td>\n",
       "    </tr>\n",
       "  </tbody>\n",
       "</table>\n",
       "<p>100 rows × 2 columns</p>\n",
       "</div>"
      ],
      "text/plain": [
       "                  y         X\n",
       "x                            \n",
       "-1.000000 -0.939057 -0.968101\n",
       "-0.979798 -1.167593 -0.928545\n",
       "-0.959596 -0.769102 -0.888988\n",
       "-0.939394 -0.690675 -0.849432\n",
       "-0.919192 -1.228591 -0.809875\n",
       "...             ...       ...\n",
       " 0.919192  2.548961  2.789767\n",
       " 0.939394  2.614248  2.829324\n",
       " 0.959596  2.719743  2.868880\n",
       " 0.979798  3.039551  2.908437\n",
       " 1.000000  2.818904  2.947993\n",
       "\n",
       "[100 rows x 2 columns]"
      ]
     },
     "execution_count": 94,
     "metadata": {},
     "output_type": "execute_result"
    }
   ],
   "source": [
    "# Construimos un DataFrame a partir de x, y_datos, y_regresion\n",
    "df = pd.DataFrame({\"x\":x, \"y\": y_datos, \"X\": y_regresion})\n",
    "df.set_index(\"x\", inplace=True)\n",
    "df"
   ]
  },
  {
   "cell_type": "code",
   "execution_count": 95,
   "metadata": {},
   "outputs": [
    {
     "data": {
      "image/png": "[encoded data removed]",
      "text/plain": [
       "<Figure size 640x480 with 1 Axes>"
      ]
     },
     "metadata": {},
     "output_type": "display_data"
    }
   ],
   "source": [
    "# Graficamos los datos (X, y).\n",
    "plt.scatter(df[\"X\"].values, df[\"y\"].values, marker=\".\")\n",
    "plt.xlabel(\"X\")\n",
    "plt.ylabel(\"y\")\n",
    "plt.show()"
   ]
  },
  {
   "cell_type": "code",
   "execution_count": 96,
   "metadata": {},
   "outputs": [
    {
     "name": "stdout",
     "output_type": "stream",
     "text": [
      "                            OLS Regression Results                            \n",
      "==============================================================================\n",
      "Dep. Variable:                      y   R-squared:                       0.982\n",
      "Model:                            OLS   Adj. R-squared:                  0.982\n",
      "Method:                 Least Squares   F-statistic:                     5486.\n",
      "Date:                Thu, 15 Aug 2024   Prob (F-statistic):           7.54e-88\n",
      "Time:                        13:26:08   Log-Likelihood:                 46.094\n",
      "No. Observations:                 100   AIC:                            -88.19\n",
      "Df Residuals:                      98   BIC:                            -82.98\n",
      "Df Model:                           1                                         \n",
      "Covariance Type:            nonrobust                                         \n",
      "==============================================================================\n",
      "                 coef    std err          t      P>|t|      [0.025      0.975]\n",
      "------------------------------------------------------------------------------\n",
      "const      -3.296e-16      0.020  -1.62e-14      1.000      -0.040       0.040\n",
      "x1             1.0000      0.014     74.070      0.000       0.973       1.027\n",
      "==============================================================================\n",
      "Omnibus:                        0.718   Durbin-Watson:                   1.884\n",
      "Prob(Omnibus):                  0.698   Jarque-Bera (JB):                0.809\n",
      "Skew:                          -0.189   Prob(JB):                        0.667\n",
      "Kurtosis:                       2.774   Cond. No.                         2.47\n",
      "==============================================================================\n",
      "\n",
      "Notes:\n",
      "[1] Standard Errors assume that the covariance matrix of the errors is correctly specified.\n"
     ]
    }
   ],
   "source": [
    "# Ejecutamos la regresión.\n",
    "import statsmodels.api as sm\n",
    "\n",
    "# Variable independiente.\n",
    "X = sm.add_constant(df[\"X\"].values)\n",
    "# Modelo de regresión lineal.\n",
    "# y -> variable dependiente.\n",
    "model = sm.OLS(df[\"y\"].values, X)\n",
    "# Ajustamos el modelo de regresión lineal.\n",
    "resultado = model.fit()\n",
    "# Mostramos los resultados.\n",
    "print(resultado.summary())"
   ]
  },
  {
   "cell_type": "markdown",
   "metadata": {},
   "source": [
    "Análisis de los resultados:\n",
    "\n",
    "1. Resumen del Modelo\n",
    "- **Dep. Variable**: La variable dependiente es `y`.\n",
    "- **R-squared**: El valor de $R^2$ es 0.982, lo que indica que el 98.2% de la variabilidad en `y` puede ser explicada por `X`. Esto sugiere un ajuste muy bueno del modelo.\n",
    "- **F-statistic**: El valor de la estadística F es 5486, con una probabilidad asociada (Prob (F-statistic)) de 7.54e-88, indicando que el modelo es altamente significativo.\n",
    "\n",
    "2. Coeficientes\n",
    "- **const**: El coeficiente de la constante es aproximadamente -3.296e-16, con un valor p de 1.000. Esto sugiere que la constante no es significativamente diferente de cero.\n",
    "- **X**: El coeficiente de `X` es 1.0000, con un error estándar de 0.014 y un valor p es 0.000, lo que indica que `X` es altamente significativo. El intervalo de confianza del 95% para `X` es [0.973, 1.027], lo que sugiere que el coeficiente es muy cercano a 1.\n",
    "\n",
    "En resumen, el modelo de regresión lineal parece ser significativo, con `X` explicando casi toda la variabilidad en `y`."
   ]
  },
  {
   "cell_type": "code",
   "execution_count": 97,
   "metadata": {},
   "outputs": [
    {
     "data": {
      "image/png": "[encoded data removed]",
      "text/plain": [
       "<Figure size 640x480 with 1 Axes>"
      ]
     },
     "metadata": {},
     "output_type": "display_data"
    }
   ],
   "source": [
    "alpha = resultado.params[0]\n",
    "beta = resultado.params[1]\n",
    "\n",
    "# Graficamos los datos (X, y).\n",
    "plt.scatter(df[\"X\"], df[\"y\"], marker=\".\")\n",
    "plt.plot(df[\"X\"], beta * df[\"X\"] + alpha, label=\"Modelo\", color=\"orange\", linestyle=\"--\")\n",
    "plt.xlabel(\"X\")\n",
    "plt.ylabel(\"y\")\n",
    "plt.grid(True)\n",
    "plt.show()"
   ]
  },
  {
   "cell_type": "markdown",
   "metadata": {},
   "source": [
    "Ahora vamos a hacer una ligera modificación a nuestro DataFrame."
   ]
  },
  {
   "cell_type": "code",
   "execution_count": 98,
   "metadata": {},
   "outputs": [
    {
     "data": {
      "text/html": [
       "<div>\n",
       "<style scoped>\n",
       "    .dataframe tbody tr th:only-of-type {\n",
       "        vertical-align: middle;\n",
       "    }\n",
       "\n",
       "    .dataframe tbody tr th {\n",
       "        vertical-align: top;\n",
       "    }\n",
       "\n",
       "    .dataframe thead th {\n",
       "        text-align: right;\n",
       "    }\n",
       "</style>\n",
       "<table border=\"1\" class=\"dataframe\">\n",
       "  <thead>\n",
       "    <tr style=\"text-align: right;\">\n",
       "      <th></th>\n",
       "      <th>Activo</th>\n",
       "      <th>Factor</th>\n",
       "    </tr>\n",
       "  </thead>\n",
       "  <tbody>\n",
       "    <tr>\n",
       "      <th>2021-01-01</th>\n",
       "      <td>-0.939057</td>\n",
       "      <td>-0.968101</td>\n",
       "    </tr>\n",
       "    <tr>\n",
       "      <th>2021-01-02</th>\n",
       "      <td>-1.167593</td>\n",
       "      <td>-0.928545</td>\n",
       "    </tr>\n",
       "    <tr>\n",
       "      <th>2021-01-03</th>\n",
       "      <td>-0.769102</td>\n",
       "      <td>-0.888988</td>\n",
       "    </tr>\n",
       "    <tr>\n",
       "      <th>2021-01-04</th>\n",
       "      <td>-0.690675</td>\n",
       "      <td>-0.849432</td>\n",
       "    </tr>\n",
       "    <tr>\n",
       "      <th>2021-01-05</th>\n",
       "      <td>-1.228591</td>\n",
       "      <td>-0.809875</td>\n",
       "    </tr>\n",
       "    <tr>\n",
       "      <th>...</th>\n",
       "      <td>...</td>\n",
       "      <td>...</td>\n",
       "    </tr>\n",
       "    <tr>\n",
       "      <th>2021-04-06</th>\n",
       "      <td>2.548961</td>\n",
       "      <td>2.789767</td>\n",
       "    </tr>\n",
       "    <tr>\n",
       "      <th>2021-04-07</th>\n",
       "      <td>2.614248</td>\n",
       "      <td>2.829324</td>\n",
       "    </tr>\n",
       "    <tr>\n",
       "      <th>2021-04-08</th>\n",
       "      <td>2.719743</td>\n",
       "      <td>2.868880</td>\n",
       "    </tr>\n",
       "    <tr>\n",
       "      <th>2021-04-09</th>\n",
       "      <td>3.039551</td>\n",
       "      <td>2.908437</td>\n",
       "    </tr>\n",
       "    <tr>\n",
       "      <th>2021-04-10</th>\n",
       "      <td>2.818904</td>\n",
       "      <td>2.947993</td>\n",
       "    </tr>\n",
       "  </tbody>\n",
       "</table>\n",
       "<p>100 rows × 2 columns</p>\n",
       "</div>"
      ],
      "text/plain": [
       "              Activo    Factor\n",
       "2021-01-01 -0.939057 -0.968101\n",
       "2021-01-02 -1.167593 -0.928545\n",
       "2021-01-03 -0.769102 -0.888988\n",
       "2021-01-04 -0.690675 -0.849432\n",
       "2021-01-05 -1.228591 -0.809875\n",
       "...              ...       ...\n",
       "2021-04-06  2.548961  2.789767\n",
       "2021-04-07  2.614248  2.829324\n",
       "2021-04-08  2.719743  2.868880\n",
       "2021-04-09  3.039551  2.908437\n",
       "2021-04-10  2.818904  2.947993\n",
       "\n",
       "[100 rows x 2 columns]"
      ]
     },
     "execution_count": 98,
     "metadata": {},
     "output_type": "execute_result"
    }
   ],
   "source": [
    "# Sustituir el índice numérico por un índice de fechas.\n",
    "df.set_index(pd.date_range(\"2021-01-01\", periods=100), inplace=True)\n",
    "\n",
    "# Sustituir los nombres de las columnas [\"y\", \"X\"] por [\"Activo\", \"Factor\"].\n",
    "df.columns = [\"Activo\", \"Factor\"]\n",
    "\n",
    "df"
   ]
  },
  {
   "cell_type": "markdown",
   "metadata": {},
   "source": [
    "Si este fuese nuestro caso, podríamos decir que **el \"Factor\" explica un 98.2% del comportamiento de nuestro \"Activo\"**."
   ]
  },
  {
   "cell_type": "markdown",
   "metadata": {},
   "source": [
    "## Análisis de empresas utilizando los Factores de Fama & French\n",
    "\n",
    "* APPLE (AAPL): big-cap, Teléfonos y dispositivos de mano\n",
    "* MICROSOFT (MSFT): big-cap, Software\n",
    "* CENTURY ALUMINUM COMPANY (CENX): small-cap, Aluminio\n",
    "* BIG 5 (BGFV): small-cap, Otros minoristas especializados (artículos deportivos)"
   ]
  },
  {
   "cell_type": "code",
   "execution_count": 99,
   "metadata": {},
   "outputs": [
    {
     "name": "stderr",
     "output_type": "stream",
     "text": [
      "[*********************100%%**********************]  4 of 4 completed\n"
     ]
    },
    {
     "data": {
      "text/plain": [
       "(1369, 4)"
      ]
     },
     "execution_count": 99,
     "metadata": {},
     "output_type": "execute_result"
    }
   ],
   "source": [
    "# Descargamos los datos de Yahoo Finance.\n",
    "data = yf.download(\n",
    "    [\"AAPL\", \"MSFT\", \"CENX\", \"BGFV\"], start=\"2018-12-31\", end=\"2024-06-08\"\n",
    ")\n",
    "# Nos quedamos con el precio de cierre ajustado.\n",
    "data = data.loc[:, \"Adj Close\"]\n",
    "\n",
    "data.shape"
   ]
  },
  {
   "cell_type": "markdown",
   "metadata": {},
   "source": [
    "Lectura de factores de Fama & French"
   ]
  },
  {
   "cell_type": "code",
   "execution_count": 100,
   "metadata": {},
   "outputs": [
    {
     "data": {
      "text/plain": [
       "(1369, 3)"
      ]
     },
     "execution_count": 100,
     "metadata": {},
     "output_type": "execute_result"
    }
   ],
   "source": [
    "# Cargamos los 3 factores de Fama & French.\n",
    "ff_3_factors = pd.read_csv(\n",
    "    \"../data/F-F_Research_Data_Factors_daily.CSV\", index_col=\"Date\", parse_dates=[\"Date\"]\n",
    ")\n",
    "# Nos quedamos solamente con los factores (quitamos \"RF\") en el período temporal de los precios de los activos.\n",
    "ff_3_factors = ff_3_factors.loc[\n",
    "    data.index.min() : data.index.max(), [\"Mkt-RF\", \"SMB\", \"HML\"]\n",
    "]\n",
    "# Igualamos el índice con el DF de precios y rellenamos hacia adelante.\n",
    "ff_3_factors.reindex(index=data.index, method=\"ffill\")\n",
    "\n",
    "ff_3_factors.shape"
   ]
  },
  {
   "cell_type": "code",
   "execution_count": 101,
   "metadata": {},
   "outputs": [
    {
     "data": {
      "text/plain": [
       "(1369, 49)"
      ]
     },
     "execution_count": 101,
     "metadata": {},
     "output_type": "execute_result"
    }
   ],
   "source": [
    "# Cargamos los factores de las 49 industrias de Fama & French.\n",
    "ff_industry_factors = pd.read_csv(\n",
    "    \"../data/49_Industry_Portfolios_Daily.CSV\", index_col=\"Date\", parse_dates=[\"Date\"]\n",
    ")\n",
    "# Nos quedamos solamente con los factores en el período temporal de los activos.\n",
    "ff_industry_factors = ff_industry_factors.loc[\n",
    "    data.index.min() : data.index.max(), :\n",
    "]\n",
    "# Igualamos el índice con el DF de precios y rellenamos hacia adelante.\n",
    "ff_industry_factors.reindex(index=data.index, method=\"ffill\")\n",
    "\n",
    "ff_industry_factors.shape"
   ]
  },
  {
   "cell_type": "markdown",
   "metadata": {},
   "source": [
    "Cálculo de los retornos"
   ]
  },
  {
   "cell_type": "code",
   "execution_count": 105,
   "metadata": {},
   "outputs": [
    {
     "data": {
      "text/plain": [
       "(1368, 4)"
      ]
     },
     "execution_count": 105,
     "metadata": {},
     "output_type": "execute_result"
    }
   ],
   "source": [
    "ret_data = np.log(data).diff().dropna()\n",
    "\n",
    "ret_data.shape"
   ]
  },
  {
   "cell_type": "markdown",
   "metadata": {},
   "source": [
    "Ejecutamos las regresiones con los factores"
   ]
  },
  {
   "cell_type": "code",
   "execution_count": 106,
   "metadata": {},
   "outputs": [
    {
     "name": "stdout",
     "output_type": "stream",
     "text": [
      "                            OLS Regression Results                            \n",
      "==============================================================================\n",
      "Dep. Variable:                   AAPL   R-squared:                       0.681\n",
      "Model:                            OLS   Adj. R-squared:                  0.681\n",
      "Method:                 Least Squares   F-statistic:                     972.0\n",
      "Date:                Thu, 15 Aug 2024   Prob (F-statistic):               0.00\n",
      "Time:                        13:30:02   Log-Likelihood:                 4202.0\n",
      "No. Observations:                1368   AIC:                            -8396.\n",
      "Df Residuals:                    1364   BIC:                            -8375.\n",
      "Df Model:                           3                                         \n",
      "Covariance Type:            nonrobust                                         \n",
      "==============================================================================\n",
      "                 coef    std err          t      P>|t|      [0.025      0.975]\n",
      "------------------------------------------------------------------------------\n",
      "const          0.0004      0.000      1.407      0.160      -0.000       0.001\n",
      "Mkt-RF         0.0120      0.000     51.291      0.000       0.012       0.012\n",
      "SMB           -0.0032      0.000     -7.590      0.000      -0.004      -0.002\n",
      "HML           -0.0037      0.000    -13.310      0.000      -0.004      -0.003\n",
      "==============================================================================\n",
      "Omnibus:                      189.860   Durbin-Watson:                   1.921\n",
      "Prob(Omnibus):                  0.000   Jarque-Bera (JB):             1798.941\n",
      "Skew:                           0.288   Prob(JB):                         0.00\n",
      "Kurtosis:                       8.588   Cond. No.                         1.93\n",
      "==============================================================================\n",
      "\n",
      "Notes:\n",
      "[1] Standard Errors assume that the covariance matrix of the errors is correctly specified.\n"
     ]
    }
   ],
   "source": [
    "# Ejecutamos la regresión.\n",
    "import statsmodels.api as sm\n",
    "\n",
    "# Variable independiente.\n",
    "X = sm.add_constant(ff_3_factors.iloc[1:])\n",
    "# Variable dependiente.\n",
    "y = ret_data.loc[:, [\"AAPL\"]]\n",
    "\n",
    "# Modelo de regresión lineal.\n",
    "# y -> variable dependiente.\n",
    "model = sm.OLS(y, X)\n",
    "# Ajustamos el modelo de regresión lineal.\n",
    "resultado = model.fit()\n",
    "\n",
    "# Mostramos los resultados.\n",
    "print(resultado.summary())"
   ]
  },
  {
   "cell_type": "code",
   "execution_count": 108,
   "metadata": {},
   "outputs": [
    {
     "name": "stdout",
     "output_type": "stream",
     "text": [
      "                            OLS Regression Results                            \n",
      "==============================================================================\n",
      "Dep. Variable:                   BGFV   R-squared:                       0.248\n",
      "Model:                            OLS   Adj. R-squared:                  0.220\n",
      "Method:                 Least Squares   F-statistic:                     8.884\n",
      "Date:                Thu, 15 Aug 2024   Prob (F-statistic):           3.01e-53\n",
      "Time:                        13:38:33   Log-Likelihood:                 2264.4\n",
      "No. Observations:                1368   AIC:                            -4429.\n",
      "Df Residuals:                    1318   BIC:                            -4168.\n",
      "Df Model:                          49                                         \n",
      "Covariance Type:            nonrobust                                         \n",
      "==============================================================================\n",
      "                 coef    std err          t      P>|t|      [0.025      0.975]\n",
      "------------------------------------------------------------------------------\n",
      "const         -0.0002      0.001     -0.155      0.877      -0.003       0.002\n",
      "Agric       7.211e-06      0.001      0.007      0.994      -0.002       0.002\n",
      "Food          -0.0012      0.002     -0.484      0.628      -0.006       0.004\n",
      "Soda          -0.0020      0.002     -1.019      0.308      -0.006       0.002\n",
      "Beer          -0.0020      0.002     -0.808      0.419      -0.007       0.003\n",
      "Smoke         -0.0002      0.001     -0.125      0.901      -0.003       0.002\n",
      "Toys           0.0030      0.001      3.318      0.001       0.001       0.005\n",
      "Fun           -0.0005      0.001     -0.442      0.659      -0.003       0.002\n",
      "Books          0.0046      0.001      3.165      0.002       0.002       0.007\n",
      "Hshld          0.0023      0.002      0.943      0.346      -0.002       0.007\n",
      "Clths          0.0036      0.001      2.743      0.006       0.001       0.006\n",
      "Hlth           0.0047      0.002      2.955      0.003       0.002       0.008\n",
      "MedEq         -0.0053      0.002     -2.658      0.008      -0.009      -0.001\n",
      "Drugs          0.0004      0.002      0.167      0.867      -0.004       0.004\n",
      "Chems          0.0041      0.002      1.700      0.089      -0.001       0.009\n",
      "Rubbr         -0.0021      0.002     -1.235      0.217      -0.006       0.001\n",
      "Txtls          0.0007      0.001      0.725      0.468      -0.001       0.003\n",
      "BldMt          0.0021      0.003      0.720      0.472      -0.004       0.008\n",
      "Cnstr          0.0018      0.001      1.208      0.227      -0.001       0.005\n",
      "Steel         -0.0010      0.001     -0.844      0.399      -0.003       0.001\n",
      "FabPr          0.0016      0.001      2.493      0.013       0.000       0.003\n",
      "Mach          -0.0048      0.003     -1.785      0.075      -0.010       0.000\n",
      "ElcEq         -0.0020      0.002     -1.044      0.297      -0.006       0.002\n",
      "Autos          0.0013      0.001      2.029      0.043    4.27e-05       0.003\n",
      "Aero           0.0012      0.001      0.863      0.388      -0.002       0.004\n",
      "Ships         -0.0003      0.002     -0.198      0.843      -0.004       0.003\n",
      "Guns          -0.0014      0.001     -1.043      0.297      -0.004       0.001\n",
      "Gold           0.0003      0.001      0.501      0.617      -0.001       0.002\n",
      "Mines          0.0007      0.001      0.516      0.606      -0.002       0.003\n",
      "Coal           0.0008      0.001      1.506      0.132      -0.000       0.002\n",
      "Oil           -0.0011      0.001     -1.071      0.285      -0.003       0.001\n",
      "Util          -0.0031      0.002     -1.651      0.099      -0.007       0.001\n",
      "Telcm         -0.0030      0.002     -1.532      0.126      -0.007       0.001\n",
      "PerSv         -0.0006      0.002     -0.336      0.737      -0.004       0.003\n",
      "BusSv       -9.56e-05      0.003     -0.036      0.971      -0.005       0.005\n",
      "Hardw          0.0002      0.002      0.144      0.885      -0.003       0.003\n",
      "Softw          0.0011      0.002      0.514      0.608      -0.003       0.005\n",
      "Chips         -0.0023      0.002     -1.350      0.177      -0.006       0.001\n",
      "LabEq         -0.0019      0.002     -0.863      0.388      -0.006       0.002\n",
      "Paper          0.0004      0.002      0.191      0.849      -0.004       0.005\n",
      "Boxes          0.0006      0.002      0.414      0.679      -0.002       0.004\n",
      "Trans          0.0028      0.002      1.347      0.178      -0.001       0.007\n",
      "Whlsl          0.0035      0.003      1.101      0.271      -0.003       0.010\n",
      "Rtail          0.0040      0.002      2.066      0.039       0.000       0.008\n",
      "Meals         -0.0025      0.002     -1.304      0.193      -0.006       0.001\n",
      "Banks         -0.0035      0.002     -1.502      0.133      -0.008       0.001\n",
      "Insur          0.0029      0.002      1.378      0.168      -0.001       0.007\n",
      "RlEst          0.0009      0.001      0.620      0.536      -0.002       0.004\n",
      "Fin            0.0003      0.003      0.117      0.907      -0.005       0.005\n",
      "Other          0.0029      0.003      1.024      0.306      -0.003       0.009\n",
      "==============================================================================\n",
      "Omnibus:                      528.524   Durbin-Watson:                   2.090\n",
      "Prob(Omnibus):                  0.000   Jarque-Bera (JB):             8743.650\n",
      "Skew:                           1.348   Prob(JB):                         0.00\n",
      "Kurtosis:                      15.088   Cond. No.                         26.8\n",
      "==============================================================================\n",
      "\n",
      "Notes:\n",
      "[1] Standard Errors assume that the covariance matrix of the errors is correctly specified.\n"
     ]
    }
   ],
   "source": [
    "# Ejecutamos la regresión.\n",
    "import statsmodels.api as sm\n",
    "\n",
    "# Variable independiente.\n",
    "X = sm.add_constant(ff_industry_factors.iloc[1:])\n",
    "# Variable dependiente.\n",
    "y = ret_data.loc[:, [\"BGFV\"]]\n",
    "\n",
    "# Modelo de regresión lineal.\n",
    "# y -> variable dependiente.\n",
    "model = sm.OLS(y, X)\n",
    "# Ajustamos el modelo de regresión lineal.\n",
    "resultado = model.fit()\n",
    "\n",
    "# Mostramos los resultados.\n",
    "print(resultado.summary())"
   ]
  }
 ],
 "metadata": {
  "kernelspec": {
   "display_name": ".venv",
   "language": "python",
   "name": "python3"
  },
  "language_info": {
   "codemirror_mode": {
    "name": "ipython",
    "version": 3
   },
   "file_extension": ".py",
   "mimetype": "text/x-python",
   "name": "python",
   "nbconvert_exporter": "python",
   "pygments_lexer": "ipython3",
   "version": "3.10.6"
  }
 },
 "nbformat": 4,
 "nbformat_minor": 2
}
