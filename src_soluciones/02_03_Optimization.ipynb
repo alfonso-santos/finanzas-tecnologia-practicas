{
 "cells": [
  {
   "cell_type": "markdown",
   "metadata": {},
   "source": [
    "# PORTFOLIO OPTIMIZATION"
   ]
  },
  {
   "cell_type": "markdown",
   "metadata": {},
   "source": [
    "# Optimization: Initial Concepts"
   ]
  },
  {
   "cell_type": "markdown",
   "metadata": {},
   "source": [
    "The goal is **minimize/maximize $f_0(x|\\theta)$** subject to $f_i(x|\\theta) \\leq b_i$,   $\\qquad i= 1,...,m$\n",
    "\n",
    "Where:\n",
    "\n",
    "- $x = (x_1, x_2,..., x_n)$ are the variables\n",
    "\n",
    "- $\\theta = (\\theta_1, \\theta_2,..., \\theta_n)$ are the parameters\n",
    "\n",
    "- $f_0: \\mathbb{R}^n \\rightarrow \\mathbb{R}$  is the objective function\n",
    "\n",
    "- $f_i: \\mathbb{R}^n \\rightarrow \\mathbb{R}$ are the restrictiosn\n",
    "\n",
    "\n",
    "**Solution**: $\\theta^*$ are the parameters, among all the vectors that satisfy the restrictions, that makes $f_0(x | \\theta^*)$ have the minimum/maximum value."
   ]
  },
  {
   "cell_type": "markdown",
   "metadata": {},
   "source": [
    "### CONVEX OPTIMIZATION"
   ]
  },
  {
   "cell_type": "markdown",
   "metadata": {},
   "source": [
    "An example of an optimisation is shown in the following figure. The maxima (mountain peaks) or minima (valleys) have to be found. In this problem, finding the global minimum/maximum is an extremely complex task."
   ]
  },
  {
   "cell_type": "markdown",
   "metadata": {},
   "source": [
    "<div style=\"text-align: center;\">\n",
    "    <img src=\"../imgs/no-convexo.PNG\" width=\"350\" height=\"250\" />\n",
    "</div>"
   ]
  },
  {
   "cell_type": "markdown",
   "metadata": {},
   "source": [
    "However, not all problems are this complicated. Convex optimisation is a subfield of mathematical optimisation that studies how to minimise or maximise a convex function over a convex set."
   ]
  },
  {
   "cell_type": "markdown",
   "metadata": {},
   "source": [
    "<div style=\"text-align: center;\">\n",
    "<img src=\"../imgs/convexa.jpg\" alt=\"CAPM\" width=\"300\"/>\n",
    "</div>"
   ]
  },
  {
   "cell_type": "markdown",
   "metadata": {},
   "source": [
    "The advantages of convex optimisation problems include:\n",
    "\n",
    "- **Global Optimal Solution**: Any local minimum is also a global minimum, which ensures that the solution found is the best possible one.\n",
    "\n",
    "- **Broad Applicability**: Convex optimisation problems are relevant in many fields, such as economics, engineering, machine learning and operations research.\n",
    "\n",
    "- **Simplicity of Implementation**: Algorithms for solving convex problems are simple to implement.\n",
    "\n",
    "- **Computational Efficiency**: Algorithms for solving convex problems are generally efficient and well understood, allowing for fast and reliable solutions."
   ]
  },
  {
   "cell_type": "markdown",
   "metadata": {},
   "source": [
    "Portfolio Optimization Problems as **Convex Optimization Problems**\n",
    "\n",
    "1. **Convex Objective Function**\n",
    "- In portfolio optimization, such as in the Markowitz model, the objective function is typically to:\n",
    "  - Minimize risk (variance or standard deviation).\n",
    "  - Maximize expected return.\n",
    "- Variance (risk) is a quadratic function of the asset weights, which is convex by definition.\n",
    "\n",
    "\n",
    "\n",
    "2. **Convex Constraints**\n",
    "- Common constraints include:\n",
    "  - The sum of the asset weights being equal to 1.\n",
    "  - Non-negativity of weights.\n",
    "- These constraints are linear (affine), and therefore convex, implying that the feasible set of solutions is a convex set.\n"
   ]
  },
  {
   "cell_type": "markdown",
   "metadata": {},
   "source": [
    "## CVXPY Library\n",
    "\n",
    "CVXPY is a specific language for convex optimisation integrated into Python. Its main features include:\n",
    "  \n",
    "- **Natural Problem Expression**: \n",
    "  - Allows users to formulate convex optimisation problems using a high-level syntax that follows mathematical logic.\n",
    "\n",
    "- **Compatibility with Known Solvers**: \n",
    "  - Facilitates the use of popular optimisation solvers.\n",
    "  \n",
    "- **Verifies that the problem is convex**:\n",
    "  - The library has tools to check if the optimization problem is convex."
   ]
  },
  {
   "cell_type": "markdown",
   "metadata": {},
   "source": [
    "You can find all the documentation about the library at [CVXPY](https://www.cvxpy.org/index.html)\n",
    "\n",
    "Presentation of [Convex Optimization with CVXPY](https://www.youtube.com/watch?v=kXqu-TqEl7Q)"
   ]
  },
  {
   "cell_type": "markdown",
   "metadata": {},
   "source": [
    "### Discipline Convex Programming\n",
    "\n",
    "#### Concept and Fundamentals\n",
    "- **Definition**: Disciplined Convex Programming (DCP) is a system of rules and techniques for the construction of convex optimisation problems.\n",
    "- **Objective**: To ensure the convexity of the optimisation problems formulated, facilitating the search for globally optimal solutions.\n",
    "\n",
    "#### Key Principles\n",
    "1. **Composition of Convex Functions**: Functions in a DCP problem must be combined according to certain rules that preserve convexity.\n",
    "2. **Curvature Rules**: Identify whether an expression is convex, concave or affine, based on the operation and functions involved.\n",
    "3. **DCP Constraints**: Only certain forms of constraints are allowed to maintain the convexity of the problem.\n",
    "\n",
    "#### Application in CVXPY\n",
    "- **CVXPY and DCP**: CVXPY uses DCP to automatically check the convexity of a formulated problem.\n",
    "- **Benefits**:\n",
    "  - Simplifies the formulation of convex problems.\n",
    "  - Avoids common errors by guaranteeing that the problem is convex and therefore solvable."
   ]
  },
  {
   "cell_type": "markdown",
   "metadata": {},
   "source": [
    "### Components of an Optimization Problem Using CVXPY\n",
    "\n",
    "1. **Decision Variables**:  \n",
    "   - These are the variables to be optimized, defined using `cvxpy.Variable()` or `cvxpy.Variable(shape)` for multidimensional cases.\n",
    "\n",
    "2. **Objective Function**:  \n",
    "   - Specifies what needs to be minimized or maximized.  \n",
    "   - Created using `cvxpy.Minimize()` or `cvxpy.Maximize()`.\n",
    "\n",
    "3. **Constraints**:  \n",
    "   - Define the feasible region for the problem by imposing conditions on the decisi\n"
   ]
  },
  {
   "cell_type": "markdown",
   "metadata": {},
   "source": [
    "The goal is **minimize/maximize $f_0(x|\\theta)$** subject to $f_i(x|\\theta) \\leq b_i$,   $\\qquad i= 1,...,m$\n",
    "\n",
    "Where:\n",
    "\n",
    "- $x = (x_1, x_2,..., x_n)$ are the variables\n",
    "\n",
    "- $\\theta = (\\theta_1, \\theta_2,..., \\theta_n)$ are the parameters\n",
    "\n",
    "- $f_0: \\mathbb{R}^n \\rightarrow \\mathbb{R}$  is the objective function\n",
    "\n",
    "- $f_i: \\mathbb{R}^n \\rightarrow \\mathbb{R}$ are the restrictiosn\n",
    "\n",
    "\n",
    "**Solution**: $\\theta^*$ are the parameters, among all the vectors that satisfy the restrictions, that makes $f_0(x | \\theta^*)$ have the minimum/maximum value."
   ]
  },
  {
   "cell_type": "markdown",
   "metadata": {},
   "source": [
    "#### Decision Variables (Trainable Parameters)\n",
    "\n",
    "- **Definition**: Represent quantities we aim to optimize. Represented by the vector $w$.\n",
    "- **Example**: In a resource allocation problem, the variables could be the amount of resources assigned to different tasks.\n"
   ]
  },
  {
   "cell_type": "code",
   "execution_count": 5,
   "metadata": {},
   "outputs": [
    {
     "name": "stdout",
     "output_type": "stream",
     "text": [
      "Defaulting to user installation because normal site-packages is not writeable\n",
      "Requirement already satisfied: cvxpy in /usr/local/lib/python3.10/site-packages (1.5.3)\n",
      "Requirement already satisfied: osqp>=0.6.2 in /usr/local/lib/python3.10/site-packages (from cvxpy) (0.6.7.post1)\n",
      "Requirement already satisfied: ecos>=2 in /usr/local/lib/python3.10/site-packages (from cvxpy) (2.0.14)\n",
      "Requirement already satisfied: clarabel>=0.5.0 in /usr/local/lib/python3.10/site-packages (from cvxpy) (0.9.0)\n",
      "Requirement already satisfied: scs>=3.2.4.post1 in /usr/local/lib/python3.10/site-packages (from cvxpy) (3.2.7)\n",
      "Requirement already satisfied: numpy>=1.15 in /usr/local/lib/python3.10/site-packages (from cvxpy) (2.1.1)\n",
      "Requirement already satisfied: scipy>=1.1.0 in /usr/local/lib/python3.10/site-packages (from cvxpy) (1.14.1)\n",
      "Requirement already satisfied: qdldl in /usr/local/lib/python3.10/site-packages (from osqp>=0.6.2->cvxpy) (0.1.7.post4)\n",
      "\n",
      "\u001b[1m[\u001b[0m\u001b[34;49mnotice\u001b[0m\u001b[1;39;49m]\u001b[0m\u001b[39;49m A new release of pip is available: \u001b[0m\u001b[31;49m24.2\u001b[0m\u001b[39;49m -> \u001b[0m\u001b[32;49m24.3.1\u001b[0m\n",
      "\u001b[1m[\u001b[0m\u001b[34;49mnotice\u001b[0m\u001b[1;39;49m]\u001b[0m\u001b[39;49m To update, run: \u001b[0m\u001b[32;49mpip install --upgrade pip\u001b[0m\n"
     ]
    }
   ],
   "source": [
    "!pip install cvxpy"
   ]
  },
  {
   "cell_type": "code",
   "execution_count": 6,
   "metadata": {},
   "outputs": [],
   "source": [
    "import numpy as np\n",
    "import pandas as pd\n",
    "import cvxpy as cp"
   ]
  },
  {
   "cell_type": "markdown",
   "metadata": {},
   "source": [
    "#### Decision Variables (Trainable Parameters)\n",
    "\n",
    "- **Definition**: Represent the quantities to be optimized, denoted by the vector $w$.\n",
    "- **Example**: In a resource allocation problem, the variables could represent the amount of resources assigned to different tasks.\n"
   ]
  },
  {
   "cell_type": "markdown",
   "metadata": {},
   "source": [
    "- **Reminder**: You can think of a `variable` as something that will change (vary) during the optimization process.\n"
   ]
  },
  {
   "cell_type": "code",
   "execution_count": 7,
   "metadata": {},
   "outputs": [
    {
     "data": {
      "text/plain": [
       "Variable((2,), var1)"
      ]
     },
     "execution_count": 7,
     "metadata": {},
     "output_type": "execute_result"
    }
   ],
   "source": [
    "# Una variable entrenable de 2 componentes (2 ponderaciones)\n",
    "w = cp.Variable(2) # (w1, w2)\n",
    "w"
   ]
  },
  {
   "cell_type": "code",
   "execution_count": 8,
   "metadata": {},
   "outputs": [
    {
     "data": {
      "text/plain": [
       "Variable((5,), var2)"
      ]
     },
     "execution_count": 8,
     "metadata": {},
     "output_type": "execute_result"
    }
   ],
   "source": [
    "# Es equivalente a definir directamente un vector de variables (5 ponderaciones)\n",
    "w = cp.Variable((5,)) # (w1, w2, w3, w4, w5)\n",
    "w"
   ]
  },
  {
   "cell_type": "code",
   "execution_count": 9,
   "metadata": {},
   "outputs": [
    {
     "data": {
      "text/plain": [
       "Variable((5, 2), var3)"
      ]
     },
     "execution_count": 9,
     "metadata": {},
     "output_type": "execute_result"
    }
   ],
   "source": [
    "# También es posible definir una matriz de variables\n",
    "m = cp.Variable((5,2))\n",
    "m\n",
    "# [(m11, m12), \n",
    "#  (m21, m22), \n",
    "#  (m31, m32), \n",
    "#  (m41, m42), \n",
    "#  (m51, m52)]"
   ]
  },
  {
   "cell_type": "markdown",
   "metadata": {},
   "source": [
    "#### Objective Function\n",
    "\n",
    "- **Definition**: The function we aim to minimize or maximize, represented by $f_0$.\n",
    "- **Example**: In a cost minimization problem, the objective function could be the total cost as a function of the decision variables.\n"
   ]
  },
  {
   "cell_type": "code",
   "execution_count": 10,
   "metadata": {},
   "outputs": [
    {
     "data": {
      "text/plain": [
       "Minimize(Expression(AFFINE, UNKNOWN, ()))"
      ]
     },
     "execution_count": 10,
     "metadata": {},
     "output_type": "execute_result"
    }
   ],
   "source": [
    "# Minimizamos la suma de las componentes del vector v\n",
    "cp.Minimize(cp.sum(w))"
   ]
  },
  {
   "cell_type": "code",
   "execution_count": 11,
   "metadata": {},
   "outputs": [
    {
     "data": {
      "text/plain": [
       "Minimize(Expression(CONVEX, NONNEGATIVE, ()))"
      ]
     },
     "execution_count": 11,
     "metadata": {},
     "output_type": "execute_result"
    }
   ],
   "source": [
    "# Minimizamos la norma L1 (suma de valores absolutos) del vector a\n",
    "cp.Minimize(cp.norm(w, 1))"
   ]
  },
  {
   "cell_type": "markdown",
   "metadata": {},
   "source": [
    "#### Constraints\n",
    "\n",
    "- **Definition**: Conditions that the decision variables must satisfy, represented by $f_i$.\n",
    "- **Example**: In a cost minimization problem, constraints could include the minimum costs required for each task.\n"
   ]
  },
  {
   "cell_type": "markdown",
   "metadata": {},
   "source": [
    "- Constraints are modeled using equality and inequality expressions with `==`, `>=`, and `<=`.  \n",
    "\n",
    "- Strict inequalities `<` and `>` are not allowed. For instance, $x < 5$ is replaced by $x + \\epsilon \\leq 5$, where $\\epsilon$ is a very small number.  \n",
    "\n",
    "- Inequality expressions are interpreted element-wise, following the broadcasting rules for scalars, vectors, and matrices, similar to NumPy.\n"
   ]
  },
  {
   "cell_type": "code",
   "execution_count": 12,
   "metadata": {},
   "outputs": [
    {
     "data": {
      "text/plain": [
       "Inequality(Variable((5,), var2))"
      ]
     },
     "execution_count": 12,
     "metadata": {},
     "output_type": "execute_result"
    }
   ],
   "source": [
    "# los 5 elementos del vector v debe ser mayor que 6\n",
    "w <= 6"
   ]
  },
  {
   "cell_type": "code",
   "execution_count": 13,
   "metadata": {},
   "outputs": [
    {
     "data": {
      "text/plain": [
       "Inequality(Constant(CONSTANT, NONNEGATIVE, (5,)))"
      ]
     },
     "execution_count": 13,
     "metadata": {},
     "output_type": "execute_result"
    }
   ],
   "source": [
    "# Cada elemento de v debe ser mayor que cada elemento del array c\n",
    "c = np.array([1, 3, 5, 10, 2])\n",
    "w >= c "
   ]
  },
  {
   "cell_type": "code",
   "execution_count": 14,
   "metadata": {},
   "outputs": [
    {
     "data": {
      "text/plain": [
       "[Inequality(Variable((5, 2), var3)),\n",
       " Inequality(Constant(CONSTANT, ZERO, ())),\n",
       " Inequality(Variable((5,), var2))]"
      ]
     },
     "execution_count": 14,
     "metadata": {},
     "output_type": "execute_result"
    }
   ],
   "source": [
    "# Las expresiones las podemos asignar a variables o agruparlas en listas\n",
    "restriccion_1 = (m <= 10)\n",
    "restriccion_2 = (m >= 0)\n",
    "constraints = [restriccion_1, restriccion_2]\n",
    "constraints.append(w<=c)\n",
    "constraints"
   ]
  },
  {
   "cell_type": "markdown",
   "metadata": {},
   "source": [
    "- Considering that CVXPY is built on top of NumPy, it is possible to define constraints on subsets of variables using indexing or slicing."
   ]
  },
  {
   "cell_type": "code",
   "execution_count": null,
   "metadata": {},
   "outputs": [],
   "source": [
    "# La variable m31 debe ser <= 9\n",
    "m[3, 1] <= 9"
   ]
  },
  {
   "cell_type": "code",
   "execution_count": null,
   "metadata": {},
   "outputs": [],
   "source": [
    "# Las variables de la primera columna de las 4 primeras filas deben ser <= 8\n",
    "m[:4, 0] <= 8"
   ]
  },
  {
   "cell_type": "code",
   "execution_count": null,
   "metadata": {},
   "outputs": [],
   "source": [
    "# Podemos mezclar nuestro código con la construcción\n",
    "# de restricciones a nuestra conveniencia\n",
    "\n",
    "other_constraints = []\n",
    "for i in range(w.shape[0]):\n",
    "    other_constraints.append(w[i] >= i - 2)\n",
    "\n",
    "other_constraints"
   ]
  },
  {
   "cell_type": "markdown",
   "metadata": {},
   "source": [
    "### Operators and Functions\n",
    "\n",
    "The library treats the operators `+`, `-`, `*`, `/`, and `@` as functions, preserving the semantics of NumPy.\n"
   ]
  },
  {
   "cell_type": "markdown",
   "metadata": {},
   "source": [
    "w*2"
   ]
  },
  {
   "cell_type": "code",
   "execution_count": null,
   "metadata": {},
   "outputs": [],
   "source": [
    "# w tiene shape (5,)\n",
    "# m tiene shape (5,2)\n",
    "w @ m # tiene shape (2,)"
   ]
  },
  {
   "cell_type": "markdown",
   "metadata": {},
   "source": [
    "**Note**: Some functions are applied element-wise, as in NumPy.\n"
   ]
  },
  {
   "cell_type": "code",
   "execution_count": null,
   "metadata": {},
   "outputs": [],
   "source": [
    "# para cada elemento de la matriz se calcula e^{m_ij}\n",
    "cp.exp(m)"
   ]
  },
  {
   "cell_type": "markdown",
   "metadata": {},
   "source": [
    "For more info visit the [CVXPY functions](https://www.cvxpy.org/tutorial/functions/index.html)"
   ]
  },
  {
   "cell_type": "markdown",
   "metadata": {},
   "source": [
    "**Installed solvers:**"
   ]
  },
  {
   "cell_type": "code",
   "execution_count": 28,
   "metadata": {},
   "outputs": [
    {
     "name": "stdout",
     "output_type": "stream",
     "text": [
      "Available solvers: ['CLARABEL', 'ECOS', 'ECOS_BB', 'GUROBI', 'MOSEK', 'OSQP', 'SCIPY', 'SCS']\n"
     ]
    }
   ],
   "source": [
    "# Lista los solvers disponibles\n",
    "print(\"Available solvers:\", cp.installed_solvers())"
   ]
  },
  {
   "cell_type": "markdown",
   "metadata": {},
   "source": [
    "## EXAMPLE"
   ]
  },
  {
   "cell_type": "markdown",
   "metadata": {},
   "source": [
    "#### Portfolio Optimization: Maximizing Dividend Yield with Foreign Currency Exposure Constraint\n",
    "\n",
    "#### **Objective**  \n",
    "Maximize the portfolio's dividend yield while ensuring that exposure to foreign currency does not exceed 40%.\n",
    "\n",
    "\n",
    "#### **Assets**\n",
    "\n",
    "| Asset  | Dividend Yield | % Foreign Income Exposure |\n",
    "|--------|----------------|---------------------------|\n",
    "| SAN    | 3.67%          | 60%                       |\n",
    "| REE    | 4.2%           | 10%                       |\n",
    "| BBVA   | 5.6%           | 50%                       |\n",
    "| REPSOL | 5%             | 25%                       |\n",
    "\n",
    "\n",
    "#### **Deliverables**\n",
    "- **Optimal Investment Proportions**: Calculate the weights of each asset in the portfolio.  \n",
    "- **Total Dividend Yield**: Compute the total dividend yield of the portfolio.  \n",
    "- **Foreign Currency Exposure**: Verify that the exposure does not exceed the 40% constraint.\n"
   ]
  },
  {
   "cell_type": "code",
   "execution_count": 16,
   "metadata": {},
   "outputs": [],
   "source": [
    "import numpy as np\n",
    "import pandas as pd\n",
    "import cvxpy as cp"
   ]
  },
  {
   "cell_type": "code",
   "execution_count": 17,
   "metadata": {},
   "outputs": [],
   "source": [
    "# datos almacenados en arrays\n",
    "dividendos = np.array([3.67, 4.2, 5.6, 5])\n",
    "ingresos = np.array([60, 10, 50, 25])"
   ]
  },
  {
   "cell_type": "code",
   "execution_count": 18,
   "metadata": {},
   "outputs": [],
   "source": [
    "# creacion de variables de decisión\n",
    "pesos = cp.Variable(dividendos.shape[0])"
   ]
  },
  {
   "cell_type": "code",
   "execution_count": 19,
   "metadata": {},
   "outputs": [],
   "source": [
    "# construcción de función objetivo\n",
    "objective = cp.sum(cp.multiply(pesos, dividendos))"
   ]
  },
  {
   "cell_type": "code",
   "execution_count": 20,
   "metadata": {},
   "outputs": [],
   "source": [
    "# lista de expresiones representando las restricciones\n",
    "constraints = [\n",
    "    cp.sum(pesos) == 1.0,\n",
    "    cp.sum(cp.multiply(ingresos, pesos)) <= 40,\n",
    "    pesos >= 0.0\n",
    "]"
   ]
  },
  {
   "cell_type": "code",
   "execution_count": 21,
   "metadata": {},
   "outputs": [],
   "source": [
    "# instancia de un problema en CVXPY\n",
    "problem = cp.Problem(cp.Maximize(objective), constraints)"
   ]
  },
  {
   "cell_type": "code",
   "execution_count": 25,
   "metadata": {},
   "outputs": [
    {
     "name": "stdout",
     "output_type": "stream",
     "text": [
      "La rentabilidad por dividendo obtenida es: 5.36%\n"
     ]
    }
   ],
   "source": [
    "# resolución del problema y valor optimo\n",
    "result = problem.solve(solver=cp.CLARABEL)\n",
    "print(f'La rentabilidad por dividendo obtenida es: {result:.2f}%')"
   ]
  },
  {
   "cell_type": "code",
   "execution_count": 26,
   "metadata": {},
   "outputs": [
    {
     "data": {
      "text/plain": [
       "array([1.26701217e-09, 4.79882156e-10, 5.99999997e-01, 4.00000001e-01])"
      ]
     },
     "execution_count": 26,
     "metadata": {},
     "output_type": "execute_result"
    }
   ],
   "source": [
    "# valor de las variables en el máximo de la función objetivo\n",
    "pesos.value"
   ]
  },
  {
   "cell_type": "code",
   "execution_count": 27,
   "metadata": {},
   "outputs": [
    {
     "data": {
      "text/plain": [
       "SAN        0.0\n",
       "REE        0.0\n",
       "BBVA      60.0\n",
       "REPSOL    40.0\n",
       "dtype: float64"
      ]
     },
     "execution_count": 27,
     "metadata": {},
     "output_type": "execute_result"
    }
   ],
   "source": [
    "pd.Series(100*pesos.value.round(2), index=['SAN', 'REE','BBVA','REPSOL'])"
   ]
  },
  {
   "cell_type": "markdown",
   "metadata": {},
   "source": [
    "### Additional Constraint\n",
    "- Solve the previous problem with an additional constraint: no more than 30% of the portfolio can be invested in any single asset.\n"
   ]
  },
  {
   "cell_type": "code",
   "execution_count": 29,
   "metadata": {},
   "outputs": [],
   "source": [
    "# añadimos la nueva restricción\n",
    "constraints.append(pesos <= 0.3)"
   ]
  },
  {
   "cell_type": "code",
   "execution_count": 30,
   "metadata": {},
   "outputs": [
    {
     "name": "stdout",
     "output_type": "stream",
     "text": [
      "La rentabilidad por dividendo obtenida es: 4.81%\n"
     ]
    }
   ],
   "source": [
    "# resolución del problema y valor optimo\n",
    "problem = cp.Problem(cp.Maximize(objective), constraints)\n",
    "result = problem.solve(solver=cp.CLARABEL)\n",
    "print(f'La rentabilidad por dividendo obtenida es: {result:.2f}%')"
   ]
  },
  {
   "cell_type": "code",
   "execution_count": 31,
   "metadata": {},
   "outputs": [
    {
     "data": {
      "text/plain": [
       "SAN       10.0\n",
       "REE       30.0\n",
       "BBVA      30.0\n",
       "REPSOL    30.0\n",
       "dtype: float64"
      ]
     },
     "execution_count": 31,
     "metadata": {},
     "output_type": "execute_result"
    }
   ],
   "source": [
    "pd.Series(100*pesos.value.round(2), index=['SAN', 'REE','BBVA','REPSOL'])"
   ]
  },
  {
   "cell_type": "markdown",
   "metadata": {},
   "source": [
    "Remember that the portfolio variance, $ \\sigma^2_p $, is calculated as:\n",
    "\n",
    "$$\\sigma^2_p = \\mathbf{w}^\\top \\mathbf{\\Sigma} \\mathbf{w}$$\n",
    "\n",
    "Where:\n",
    "- $ \\mathbf{w} $: Vector of asset weights.\n",
    "- $ \\mathbf{\\Sigma} $: Covariance matrix of asset returns.\n",
    "\n",
    "This formula represents the total risk of the portfolio, combining individual asset risks and their correlations.\n"
   ]
  },
  {
   "cell_type": "markdown",
   "metadata": {},
   "source": [
    "### Exercise 1: Minimum Risk Portfolio Calculation\n",
    "\n",
    "**Objective**: Minimize the risk of a portfolio.\n",
    "\n",
    "\n",
    "#### **Data**\n",
    "- **Expected Returns**: An array `retornos_esperados` containing the expected return for each asset.\n",
    "- **Covariance Matrix**: `matriz_cov`, describing the covariance between assets and the combined risk.\n",
    "\n",
    "\n",
    "#### **Constraints**\n",
    "1. Short selling is not allowed, meaning all weights must be non-negative: \\( w_i \\geq 0 \\).  \n"
   ]
  },
  {
   "cell_type": "code",
   "execution_count": 34,
   "metadata": {},
   "outputs": [],
   "source": [
    "# Datos de retornos y covarianzas\n",
    "\n",
    "retornos_esperados = np.array([0.17, 0.10, 0.07, 0.09])  # Ejemplo de retornos esperados\n",
    "\n",
    "matriz_cov = np.array([[1.83977374, 1.23002575, 1.59282297, 0.69409837],\n",
    "                       [1.23002575, 1.45345954, 1.7548078 , 1.31477996],\n",
    "                       [1.59282297, 1.7548078 , 2.14425197, 1.55568552],\n",
    "                       [0.69409837, 1.31477996, 1.55568552, 1.46502412]])"
   ]
  },
  {
   "cell_type": "code",
   "execution_count": 35,
   "metadata": {},
   "outputs": [],
   "source": [
    "# Variable de decisión. La cartera tiene 4 pesos ya que hay 4 activos\n",
    "pesos = cp.Variable(4)"
   ]
  },
  {
   "cell_type": "markdown",
   "metadata": {},
   "source": [
    "In `cvxpy`, `cp.quad_form(x, P)` takes two arguments:\n",
    "\n",
    "- **`x`**: A variable or vector of variables in the optimization problem.  \n",
    "- **`P`**: A matrix that defines how the variables in `x` are combined and squared.  \n",
    "\n",
    "The resulting quadratic form is calculated as:\n",
    "\n",
    "$$\n",
    "x^\\top P x\n",
    "$$\n",
    "\n",
    "Where $x^T$ is the transpose of the vector `x`, and `P` is the given matrix. This operation is commonly used for computing portfolio variance or other quadratic expressions.\n"
   ]
  },
  {
   "cell_type": "code",
   "execution_count": 36,
   "metadata": {},
   "outputs": [],
   "source": [
    "# Función objetivo\n",
    "riesgo = cp.quad_form(pesos, matriz_cov)\n",
    "objetivo = cp.Minimize(riesgo)"
   ]
  },
  {
   "cell_type": "code",
   "execution_count": 37,
   "metadata": {},
   "outputs": [],
   "source": [
    "# Restricciones\n",
    "constraints = [cp.sum(pesos) == 1, \n",
    "               pesos >= 0]"
   ]
  },
  {
   "cell_type": "code",
   "execution_count": 38,
   "metadata": {},
   "outputs": [],
   "source": [
    "# Problema de optimización\n",
    "problema = cp.Problem(objetivo, constraints)\n",
    "\n",
    "# Resolviendo el problema\n",
    "resultado = problema.solve()\n",
    "\n",
    "# Resultados\n",
    "pesos_optimos = pesos.value"
   ]
  },
  {
   "cell_type": "code",
   "execution_count": 39,
   "metadata": {},
   "outputs": [
    {
     "name": "stdout",
     "output_type": "stream",
     "text": [
      "El riesgo de la cartera es: 1.15\n",
      "La rentabilidad de la cartera es: 12.22%\n",
      "Los pesos que hacen que la cartera tenga el menor riesgo son: [40. -0. -0. 60.]\n"
     ]
    }
   ],
   "source": [
    "print(f'El riesgo de la cartera es: {riesgo.value:.2f}')\n",
    "print(f'La rentabilidad de la cartera es: {100*(retornos_esperados @ pesos_optimos).round(4)}%')\n",
    "print(f'Los pesos que hacen que la cartera tenga el menor riesgo son: {100*pesos_optimos.round(2)}')"
   ]
  }
 ],
 "metadata": {
  "kernelspec": {
   "display_name": "Python 3",
   "language": "python",
   "name": "python3"
  },
  "language_info": {
   "codemirror_mode": {
    "name": "ipython",
    "version": 3
   },
   "file_extension": ".py",
   "mimetype": "text/x-python",
   "name": "python",
   "nbconvert_exporter": "python",
   "pygments_lexer": "ipython3",
   "version": "3.10.15"
  }
 },
 "nbformat": 4,
 "nbformat_minor": 2
}
