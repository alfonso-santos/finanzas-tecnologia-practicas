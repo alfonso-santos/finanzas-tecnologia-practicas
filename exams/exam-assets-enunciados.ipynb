{
 "cells": [
  {
   "cell_type": "markdown",
   "metadata": {},
   "source": [
    "# Exercise 1:\n",
    "\n",
    "Risk Analysis for an Investor in the Utilities Sector\n",
    "\n",
    "An investor is considering investing in assets from the S&P 500, particularly within the Utilities sector, but is concerned about the potential risk of daily losses. To help the investor make an informed decision, you will conduct an analysis to determine which assets in this sector pose the highest and lowest risk, measured by the maximum potential daily loss with a 95% confidence level, based on historical data.\n",
    "\n",
    "Using the file componentes_sp500.xlsx (sheet: sp500), focus on the GICS_sector column to identify assets in the Utilities sector and extract their tickers from the Symbol column. Stored the tickers in a list variable named **utility_tickers** Then, download their historical Adjusted Close prices from Yahoo Finance for the period 2010-01-01 to 2020-12-31 and identify:\n",
    "\n",
    "- The stock with the highest daily loss.\n",
    "\n",
    "- The stock with the lowest daily loss.\n",
    "\n",
    "Cretae a list named **loss_tickers** with the tickers of these two assets.\n",
    "  \n",
    "For the two selected assets, provide the following information:\n",
    "\n",
    "- Ticker\n",
    "\n",
    "- Company name\n",
    "\n",
    "- Subindustry\n",
    "\n",
    "- Date added to the S&P 500\n",
    "\n",
    "- Maximum daily loss, calculated at the 95% confidence level, based on historical values.\n",
    "\n",
    "- Annual expected return\n",
    "\n",
    "Store the results for these two assets in a list of dictionaries named **results** with the above information as key-value pairs.\n",
    "\n",
    "**Before performing any calculations, drop any assets that have missing values during this period**.\n",
    "\n",
    "After completing this analysis, calculate the potential daily losses for the same two assets using a 97% confidence level. This time, instead of the historical approach, use a parametric approach."
   ]
  },
  {
   "cell_type": "code",
   "execution_count": 2,
   "metadata": {},
   "outputs": [],
   "source": [
    "sp500_components_path = 'https://github.com/alfonso-santos/finanzas-tecnologia-practicas/raw/main/data/components_sp500.xlsx'"
   ]
  },
  {
   "cell_type": "code",
   "execution_count": 1,
   "metadata": {},
   "outputs": [],
   "source": [
    "# ADD YOUR CODE HERE"
   ]
  },
  {
   "cell_type": "markdown",
   "metadata": {},
   "source": [
    "# Exercise 2:\n",
    "\n",
    "As a financial advisor, your goal is to guide an investor looking to optimize their investment in a specific asset from the S&P 500 index. The investor wants to make decisions based on a weekly and monthly analysis of the asset’s returns and needs to know which frequency is best for maximizing risk-adjusted returns. To achieve this, follow these steps:\n",
    "\n",
    "1. **Load and clean the data**:\n",
    "   - Load the file **sp500_adj_close.csv** (provided) and select the data from **2019** onward (inclusive).\n",
    "   - **First**, remove all assets (columns) that have more than 20% missing data.\n",
    "   - **Then**, remove any remaining rows with missing values for the selected assets.\n",
    "\n",
    "2. **Calculate logarithmic returns**:\n",
    "   - Compute the daily logarithmic returns for the remaining assets.\n",
    "   - Filter out the assets with a daily average return less than or equal to zero.\n",
    "\n",
    "3. **Select the asset with the best return per unit of risk**:\n",
    "   - Calculate the **annualized return** and the **annualized volatility** for the filtered assets.\n",
    "   - Select the asset with the highest **ratio of annualized return to annualized volatility**, i.e., the asset that provides the best return per unit of risk taken.\n",
    "\n",
    "4. **Weekly and monthly analysis of the selected asset**:\n",
    "   - Calculate the time series of **weekly** and **monthly** returns for the selected asset.\n",
    "   - Generate a histogram with both the weekly and monthly returns, normalizing the frequencies to visually compare them.\n",
    "\n",
    "5. **Calculate key statistics**:\n",
    "   - Compute the **annualized mean**, **annualized volatility**, **skewness**, and **kurtosis** for the weekly and monthly returns of the selected asset.\n",
    "   - Present these results in a **DataFrame** to compare the statistics across both frequencies.\n",
    "\n",
    "6. **Analyze the impact of frequency**:\n",
    "   - Conduct a **detailed analysis** of how **weekly** and **monthly** frequencies impact each of the calculated metrics (mean, volatility, skewness, and kurtosis).\n",
    "   - Discuss how each statistic varies between the two frequencies and what implications this has for the investor’s decision-making process.\n",
    "\n",
    "This exercise will allow you to compare the characteristics of the asset’s returns across different time horizons and conduct a thorough analysis of the impact of frequency, helping you provide valuable advice to the investor on the most suitable investment strategy.\n",
    "\n"
   ]
  },
  {
   "cell_type": "code",
   "execution_count": 4,
   "metadata": {},
   "outputs": [],
   "source": [
    "sp500_prices_path = 'https://github.com/alfonso-santos/finanzas-tecnologia-practicas/raw/main/data/sp500_adj_close.csv'"
   ]
  },
  {
   "cell_type": "code",
   "execution_count": 2,
   "metadata": {},
   "outputs": [],
   "source": [
    "# ADD YOUR CODE HERE\n"
   ]
  },
  {
   "cell_type": "markdown",
   "metadata": {},
   "source": [
    "# CONCLUSIONS:\n",
    "\n",
    "\n",
    "\n",
    "\n",
    "\n",
    "\n"
   ]
  },
  {
   "cell_type": "markdown",
   "metadata": {},
   "source": [
    "___________________________________"
   ]
  }
 ],
 "metadata": {
  "kernelspec": {
   "display_name": "Python 3",
   "language": "python",
   "name": "python3"
  },
  "language_info": {
   "codemirror_mode": {
    "name": "ipython",
    "version": 3
   },
   "file_extension": ".py",
   "mimetype": "text/x-python",
   "name": "python",
   "nbconvert_exporter": "python",
   "pygments_lexer": "ipython3",
   "version": "3.10.15"
  }
 },
 "nbformat": 4,
 "nbformat_minor": 2
}
