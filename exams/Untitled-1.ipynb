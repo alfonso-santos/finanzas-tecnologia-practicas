{
 "cells": [
  {
   "cell_type": "code",
   "execution_count": 1,
   "metadata": {},
   "outputs": [],
   "source": [
    "import numpy as np\n",
    "import matplotlib.pyplot as plt\n",
    "import pandas as pd\n",
    "import yfinance as yf\n",
    "from scipy.stats import norm"
   ]
  },
  {
   "cell_type": "markdown",
   "metadata": {},
   "source": [
    "\n",
    "# Exercise: Risk Analysis for an Investor in the Utilities Sector\n",
    "\n",
    "An investor is considering investing in assets from the S&P 500, particularly within the Utilities sector, but is concerned about the potential risk of daily losses. To help the investor make an informed decision, you will conduct an analysis to determine which assets in this sector pose the highest and lowest risk, measured by the maximum potential daily loss with a 5% confidence interval, based on historical data.\n",
    "\n",
    "Using the file componentes_sp500.xlsx (sheet: sp500), focus on the GICS_sector column to identify assets in the Utilities sector and extract their tickers from the Symbol column. Then, download their historical Adjusted Close prices from Yahoo Finance for the period 2010-01-01 to 2020-12-31 and calculate:\n",
    "\n",
    "- The stock with the highest potential daily loss.\n",
    "\n",
    "- The stock with the lowest potential daily loss.\n",
    "  \n",
    "For the two selected assets, provide the following information:\n",
    "\n",
    "- Ticker\n",
    "\n",
    "- Company name\n",
    "\n",
    "- Subindustry\n",
    "\n",
    "- Date added to the S&P 500\n",
    "\n",
    "- Maximum daily loss, calculated with a 5% confidence interval, based on the historical values\n",
    "\n",
    "- Annual expected return\n",
    "\n",
    "Store the results for these two assets in a list of dictionaries with the above information as key-value pairs.\n",
    "\n",
    "Before performing any calculations, drop any assets that have missing values during this period.\n",
    "\n",
    "After completing this analysis, calculate the potential daily losses for the same two assets using a 99% confidence interval. This time, instead of the historical approach, use a parametric approach."
   ]
  },
  {
   "cell_type": "code",
   "execution_count": 57,
   "metadata": {},
   "outputs": [
    {
     "name": "stderr",
     "output_type": "stream",
     "text": [
      "[*********************100%***********************]  31 of 31 completed\n",
      "\n",
      "1 Failed download:\n",
      "['CEG']: YFPricesMissingError('$%ticker%: possibly delisted; no price data found  (1d 2010-01-01 -> 2020-12-31) (Yahoo error = \"Data doesn\\'t exist for startDate = 1262322000, endDate = 1609390800\")')\n"
     ]
    },
    {
     "data": {
      "text/plain": [
       "[{'Ticker': 'NRG',\n",
       "  'Company name': 'NRG Energy',\n",
       "  'Subindustry': 'Independent Power Producers & Energy Traders',\n",
       "  'Date added': '2010-01-29',\n",
       "  'Maximum daily loss (5%)': '-3.19',\n",
       "  'Annual expected return': '5.13',\n",
       "  'Maximum daily loss (99%) Parametric': '-5.18'},\n",
       " {'Ticker': 'SO',\n",
       "  'Company name': 'Southern Company',\n",
       "  'Subindustry': 'Electric Utilities',\n",
       "  'Date added': '1957-03-04',\n",
       "  'Maximum daily loss (5%)': '-1.53',\n",
       "  'Annual expected return': '10.12',\n",
       "  'Maximum daily loss (99%) Parametric': '-2.79'}]"
      ]
     },
     "execution_count": 57,
     "metadata": {},
     "output_type": "execute_result"
    }
   ],
   "source": [
    "# Load the data\n",
    "sp500_components = pd.read_excel('./data/componentes_indices_mod.xlsx', sheet_name='sp500', skiprows=1)\n",
    "\n",
    "# Filter for Utilities sector\n",
    "tickers = sp500_components[sp500_components['GICS_Sector'] == 'Utilities']['Symbol'].to_list()\n",
    "\n",
    "start_date = '2010-01-01'\n",
    "end_date = '2020-12-31'\n",
    "\n",
    "# Download Adjusted Close prices from Yahoo Finance\n",
    "data = yf.download(tickers, start=start_date, end=end_date)['Adj Close']\n",
    "\n",
    "# Drop assets with missing data\n",
    "data.dropna(axis=1, how='any', inplace=True)\n",
    "\n",
    "# Calculate daily log returns\n",
    "data_returns = np.log(data).diff().dropna()\n",
    "\n",
    "# Calculate 5% historical VaR (Value at Risk) for each asset\n",
    "var_95 = data_returns.quantile(0.05)\n",
    "\n",
    "# Find tickers with the highest and lowest potential daily loss\n",
    "loss_tickers = [var_95.idxmin(), var_95.idxmax()]  # [max_loss_ticker, min_loss_ticker]\n",
    "\n",
    "# Calculate annual expected return (assuming 252 trading days)\n",
    "annual_return = data_returns.mean() * 252\n",
    "\n",
    "# Create a list of dictionaries to store results using f-strings for formatting\n",
    "results = []\n",
    "for ticker in loss_tickers:\n",
    "    asset_info = sp500_components[sp500_components['Symbol'] == ticker].iloc[0]\n",
    "    results.append({\n",
    "        'Ticker': ticker,\n",
    "        'Company name': asset_info['Company_Name'],\n",
    "        'Subindustry': asset_info['GICS_Sub-Industry'],\n",
    "        'Date added': asset_info['Date_added'],\n",
    "        'Maximum daily loss (5%)': f\"{100 * var_95[ticker]:.2f}\",  # Format as a string with 2 decimals\n",
    "        'Annual expected return': f\"{100 * annual_return[ticker]:.2f}\"  # Format as a string with 2 decimals\n",
    "    })\n",
    "\n",
    "# Parametric VaR at 99% confidence interval (assuming normal distribution)\n",
    "mean_returns = data_returns.mean()\n",
    "std_returns = data_returns.std()\n",
    "\n",
    "# Calculate parametric VaR for 99% confidence interval\n",
    "var_99_parametric = mean_returns + norm.ppf(0.01) * std_returns\n",
    "\n",
    "# Append the parametric VaR (99%) for the two selected assets\n",
    "for ticker in loss_tickers:\n",
    "    for result in results:\n",
    "        if result['Ticker'] == ticker:\n",
    "            result['Maximum daily loss (99%) Parametric'] = f\"{100 * var_99_parametric[ticker]:.2f}\"  # Format with 2 decimals\n",
    "\n",
    "# Display the updated results\n",
    "results\n"
   ]
  }
 ],
 "metadata": {
  "kernelspec": {
   "display_name": "Python 3",
   "language": "python",
   "name": "python3"
  },
  "language_info": {
   "codemirror_mode": {
    "name": "ipython",
    "version": 3
   },
   "file_extension": ".py",
   "mimetype": "text/x-python",
   "name": "python",
   "nbconvert_exporter": "python",
   "pygments_lexer": "ipython3",
   "version": "3.11.6"
  }
 },
 "nbformat": 4,
 "nbformat_minor": 2
}
